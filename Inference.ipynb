{
  "nbformat": 4,
  "nbformat_minor": 0,
  "metadata": {
    "colab": {
      "provenance": [],
      "authorship_tag": "ABX9TyOF3ehkVp/oirSDBTqeNDod",
      "include_colab_link": true
    },
    "kernelspec": {
      "name": "python3",
      "display_name": "Python 3"
    },
    "language_info": {
      "name": "python"
    }
  },
  "cells": [
    {
      "cell_type": "markdown",
      "metadata": {
        "id": "view-in-github",
        "colab_type": "text"
      },
      "source": [
        "<a href=\"https://colab.research.google.com/github/lucinnnal/DNN_Final_Project/blob/main/Inference.ipynb\" target=\"_parent\"><img src=\"https://colab.research.google.com/assets/colab-badge.svg\" alt=\"Open In Colab\"/></a>"
      ]
    },
    {
      "cell_type": "code",
      "execution_count": 40,
      "metadata": {
        "colab": {
          "base_uri": "https://localhost:8080/"
        },
        "id": "Kq4Y1_SMjrcw",
        "outputId": "314c88b6-66a3-4e5d-8ce2-02c88842b5a5"
      },
      "outputs": [
        {
          "output_type": "stream",
          "name": "stdout",
          "text": [
            "Requirement already satisfied: safetensors in /usr/local/lib/python3.10/dist-packages (0.4.5)\n"
          ]
        },
        {
          "output_type": "stream",
          "name": "stderr",
          "text": [
            "Some weights of the model checkpoint at nvidia/mit-b0 were not used when initializing SegformerForSemanticSegmentation: ['classifier.bias', 'classifier.weight']\n",
            "- This IS expected if you are initializing SegformerForSemanticSegmentation from the checkpoint of a model trained on another task or with another architecture (e.g. initializing a BertForSequenceClassification model from a BertForPreTraining model).\n",
            "- This IS NOT expected if you are initializing SegformerForSemanticSegmentation from the checkpoint of a model that you expect to be exactly identical (initializing a BertForSequenceClassification model from a BertForSequenceClassification model).\n",
            "Some weights of SegformerForSemanticSegmentation were not initialized from the model checkpoint at nvidia/mit-b0 and are newly initialized: ['decode_head.batch_norm.bias', 'decode_head.batch_norm.num_batches_tracked', 'decode_head.batch_norm.running_mean', 'decode_head.batch_norm.running_var', 'decode_head.batch_norm.weight', 'decode_head.classifier.bias', 'decode_head.classifier.weight', 'decode_head.linear_c.0.proj.bias', 'decode_head.linear_c.0.proj.weight', 'decode_head.linear_c.1.proj.bias', 'decode_head.linear_c.1.proj.weight', 'decode_head.linear_c.2.proj.bias', 'decode_head.linear_c.2.proj.weight', 'decode_head.linear_c.3.proj.bias', 'decode_head.linear_c.3.proj.weight', 'decode_head.linear_fuse.weight']\n",
            "You should probably TRAIN this model on a down-stream task to be able to use it for predictions and inference.\n"
          ]
        },
        {
          "output_type": "execute_result",
          "data": {
            "text/plain": [
              "SegformerForSemanticSegmentation(\n",
              "  (segformer): SegformerModel(\n",
              "    (encoder): SegformerEncoder(\n",
              "      (patch_embeddings): ModuleList(\n",
              "        (0): SegformerOverlapPatchEmbeddings(\n",
              "          (proj): Conv2d(3, 32, kernel_size=(7, 7), stride=(4, 4), padding=(3, 3))\n",
              "          (layer_norm): LayerNorm((32,), eps=1e-05, elementwise_affine=True)\n",
              "        )\n",
              "        (1): SegformerOverlapPatchEmbeddings(\n",
              "          (proj): Conv2d(32, 64, kernel_size=(3, 3), stride=(2, 2), padding=(1, 1))\n",
              "          (layer_norm): LayerNorm((64,), eps=1e-05, elementwise_affine=True)\n",
              "        )\n",
              "        (2): SegformerOverlapPatchEmbeddings(\n",
              "          (proj): Conv2d(64, 160, kernel_size=(3, 3), stride=(2, 2), padding=(1, 1))\n",
              "          (layer_norm): LayerNorm((160,), eps=1e-05, elementwise_affine=True)\n",
              "        )\n",
              "        (3): SegformerOverlapPatchEmbeddings(\n",
              "          (proj): Conv2d(160, 256, kernel_size=(3, 3), stride=(2, 2), padding=(1, 1))\n",
              "          (layer_norm): LayerNorm((256,), eps=1e-05, elementwise_affine=True)\n",
              "        )\n",
              "      )\n",
              "      (block): ModuleList(\n",
              "        (0): ModuleList(\n",
              "          (0): SegformerLayer(\n",
              "            (layer_norm_1): LayerNorm((32,), eps=1e-05, elementwise_affine=True)\n",
              "            (attention): SegformerAttention(\n",
              "              (self): SegformerEfficientSelfAttention(\n",
              "                (query): Linear(in_features=32, out_features=32, bias=True)\n",
              "                (key): Linear(in_features=32, out_features=32, bias=True)\n",
              "                (value): Linear(in_features=32, out_features=32, bias=True)\n",
              "                (dropout): Dropout(p=0.0, inplace=False)\n",
              "                (sr): Conv2d(32, 32, kernel_size=(8, 8), stride=(8, 8))\n",
              "                (layer_norm): LayerNorm((32,), eps=1e-05, elementwise_affine=True)\n",
              "              )\n",
              "              (output): SegformerSelfOutput(\n",
              "                (dense): Linear(in_features=32, out_features=32, bias=True)\n",
              "                (dropout): Dropout(p=0.0, inplace=False)\n",
              "              )\n",
              "            )\n",
              "            (drop_path): Identity()\n",
              "            (layer_norm_2): LayerNorm((32,), eps=1e-05, elementwise_affine=True)\n",
              "            (mlp): SegformerMixFFN(\n",
              "              (dense1): Linear(in_features=32, out_features=128, bias=True)\n",
              "              (dwconv): SegformerDWConv(\n",
              "                (dwconv): Conv2d(128, 128, kernel_size=(3, 3), stride=(1, 1), padding=(1, 1), groups=128)\n",
              "              )\n",
              "              (intermediate_act_fn): GELUActivation()\n",
              "              (dense2): Linear(in_features=128, out_features=32, bias=True)\n",
              "              (dropout): Dropout(p=0.0, inplace=False)\n",
              "            )\n",
              "          )\n",
              "          (1): SegformerLayer(\n",
              "            (layer_norm_1): LayerNorm((32,), eps=1e-05, elementwise_affine=True)\n",
              "            (attention): SegformerAttention(\n",
              "              (self): SegformerEfficientSelfAttention(\n",
              "                (query): Linear(in_features=32, out_features=32, bias=True)\n",
              "                (key): Linear(in_features=32, out_features=32, bias=True)\n",
              "                (value): Linear(in_features=32, out_features=32, bias=True)\n",
              "                (dropout): Dropout(p=0.0, inplace=False)\n",
              "                (sr): Conv2d(32, 32, kernel_size=(8, 8), stride=(8, 8))\n",
              "                (layer_norm): LayerNorm((32,), eps=1e-05, elementwise_affine=True)\n",
              "              )\n",
              "              (output): SegformerSelfOutput(\n",
              "                (dense): Linear(in_features=32, out_features=32, bias=True)\n",
              "                (dropout): Dropout(p=0.0, inplace=False)\n",
              "              )\n",
              "            )\n",
              "            (drop_path): SegformerDropPath(p=0.014285714365541935)\n",
              "            (layer_norm_2): LayerNorm((32,), eps=1e-05, elementwise_affine=True)\n",
              "            (mlp): SegformerMixFFN(\n",
              "              (dense1): Linear(in_features=32, out_features=128, bias=True)\n",
              "              (dwconv): SegformerDWConv(\n",
              "                (dwconv): Conv2d(128, 128, kernel_size=(3, 3), stride=(1, 1), padding=(1, 1), groups=128)\n",
              "              )\n",
              "              (intermediate_act_fn): GELUActivation()\n",
              "              (dense2): Linear(in_features=128, out_features=32, bias=True)\n",
              "              (dropout): Dropout(p=0.0, inplace=False)\n",
              "            )\n",
              "          )\n",
              "        )\n",
              "        (1): ModuleList(\n",
              "          (0): SegformerLayer(\n",
              "            (layer_norm_1): LayerNorm((64,), eps=1e-05, elementwise_affine=True)\n",
              "            (attention): SegformerAttention(\n",
              "              (self): SegformerEfficientSelfAttention(\n",
              "                (query): Linear(in_features=64, out_features=64, bias=True)\n",
              "                (key): Linear(in_features=64, out_features=64, bias=True)\n",
              "                (value): Linear(in_features=64, out_features=64, bias=True)\n",
              "                (dropout): Dropout(p=0.0, inplace=False)\n",
              "                (sr): Conv2d(64, 64, kernel_size=(4, 4), stride=(4, 4))\n",
              "                (layer_norm): LayerNorm((64,), eps=1e-05, elementwise_affine=True)\n",
              "              )\n",
              "              (output): SegformerSelfOutput(\n",
              "                (dense): Linear(in_features=64, out_features=64, bias=True)\n",
              "                (dropout): Dropout(p=0.0, inplace=False)\n",
              "              )\n",
              "            )\n",
              "            (drop_path): SegformerDropPath(p=0.02857142873108387)\n",
              "            (layer_norm_2): LayerNorm((64,), eps=1e-05, elementwise_affine=True)\n",
              "            (mlp): SegformerMixFFN(\n",
              "              (dense1): Linear(in_features=64, out_features=256, bias=True)\n",
              "              (dwconv): SegformerDWConv(\n",
              "                (dwconv): Conv2d(256, 256, kernel_size=(3, 3), stride=(1, 1), padding=(1, 1), groups=256)\n",
              "              )\n",
              "              (intermediate_act_fn): GELUActivation()\n",
              "              (dense2): Linear(in_features=256, out_features=64, bias=True)\n",
              "              (dropout): Dropout(p=0.0, inplace=False)\n",
              "            )\n",
              "          )\n",
              "          (1): SegformerLayer(\n",
              "            (layer_norm_1): LayerNorm((64,), eps=1e-05, elementwise_affine=True)\n",
              "            (attention): SegformerAttention(\n",
              "              (self): SegformerEfficientSelfAttention(\n",
              "                (query): Linear(in_features=64, out_features=64, bias=True)\n",
              "                (key): Linear(in_features=64, out_features=64, bias=True)\n",
              "                (value): Linear(in_features=64, out_features=64, bias=True)\n",
              "                (dropout): Dropout(p=0.0, inplace=False)\n",
              "                (sr): Conv2d(64, 64, kernel_size=(4, 4), stride=(4, 4))\n",
              "                (layer_norm): LayerNorm((64,), eps=1e-05, elementwise_affine=True)\n",
              "              )\n",
              "              (output): SegformerSelfOutput(\n",
              "                (dense): Linear(in_features=64, out_features=64, bias=True)\n",
              "                (dropout): Dropout(p=0.0, inplace=False)\n",
              "              )\n",
              "            )\n",
              "            (drop_path): SegformerDropPath(p=0.04285714402794838)\n",
              "            (layer_norm_2): LayerNorm((64,), eps=1e-05, elementwise_affine=True)\n",
              "            (mlp): SegformerMixFFN(\n",
              "              (dense1): Linear(in_features=64, out_features=256, bias=True)\n",
              "              (dwconv): SegformerDWConv(\n",
              "                (dwconv): Conv2d(256, 256, kernel_size=(3, 3), stride=(1, 1), padding=(1, 1), groups=256)\n",
              "              )\n",
              "              (intermediate_act_fn): GELUActivation()\n",
              "              (dense2): Linear(in_features=256, out_features=64, bias=True)\n",
              "              (dropout): Dropout(p=0.0, inplace=False)\n",
              "            )\n",
              "          )\n",
              "        )\n",
              "        (2): ModuleList(\n",
              "          (0): SegformerLayer(\n",
              "            (layer_norm_1): LayerNorm((160,), eps=1e-05, elementwise_affine=True)\n",
              "            (attention): SegformerAttention(\n",
              "              (self): SegformerEfficientSelfAttention(\n",
              "                (query): Linear(in_features=160, out_features=160, bias=True)\n",
              "                (key): Linear(in_features=160, out_features=160, bias=True)\n",
              "                (value): Linear(in_features=160, out_features=160, bias=True)\n",
              "                (dropout): Dropout(p=0.0, inplace=False)\n",
              "                (sr): Conv2d(160, 160, kernel_size=(2, 2), stride=(2, 2))\n",
              "                (layer_norm): LayerNorm((160,), eps=1e-05, elementwise_affine=True)\n",
              "              )\n",
              "              (output): SegformerSelfOutput(\n",
              "                (dense): Linear(in_features=160, out_features=160, bias=True)\n",
              "                (dropout): Dropout(p=0.0, inplace=False)\n",
              "              )\n",
              "            )\n",
              "            (drop_path): SegformerDropPath(p=0.05714285746216774)\n",
              "            (layer_norm_2): LayerNorm((160,), eps=1e-05, elementwise_affine=True)\n",
              "            (mlp): SegformerMixFFN(\n",
              "              (dense1): Linear(in_features=160, out_features=640, bias=True)\n",
              "              (dwconv): SegformerDWConv(\n",
              "                (dwconv): Conv2d(640, 640, kernel_size=(3, 3), stride=(1, 1), padding=(1, 1), groups=640)\n",
              "              )\n",
              "              (intermediate_act_fn): GELUActivation()\n",
              "              (dense2): Linear(in_features=640, out_features=160, bias=True)\n",
              "              (dropout): Dropout(p=0.0, inplace=False)\n",
              "            )\n",
              "          )\n",
              "          (1): SegformerLayer(\n",
              "            (layer_norm_1): LayerNorm((160,), eps=1e-05, elementwise_affine=True)\n",
              "            (attention): SegformerAttention(\n",
              "              (self): SegformerEfficientSelfAttention(\n",
              "                (query): Linear(in_features=160, out_features=160, bias=True)\n",
              "                (key): Linear(in_features=160, out_features=160, bias=True)\n",
              "                (value): Linear(in_features=160, out_features=160, bias=True)\n",
              "                (dropout): Dropout(p=0.0, inplace=False)\n",
              "                (sr): Conv2d(160, 160, kernel_size=(2, 2), stride=(2, 2))\n",
              "                (layer_norm): LayerNorm((160,), eps=1e-05, elementwise_affine=True)\n",
              "              )\n",
              "              (output): SegformerSelfOutput(\n",
              "                (dense): Linear(in_features=160, out_features=160, bias=True)\n",
              "                (dropout): Dropout(p=0.0, inplace=False)\n",
              "              )\n",
              "            )\n",
              "            (drop_path): SegformerDropPath(p=0.0714285746216774)\n",
              "            (layer_norm_2): LayerNorm((160,), eps=1e-05, elementwise_affine=True)\n",
              "            (mlp): SegformerMixFFN(\n",
              "              (dense1): Linear(in_features=160, out_features=640, bias=True)\n",
              "              (dwconv): SegformerDWConv(\n",
              "                (dwconv): Conv2d(640, 640, kernel_size=(3, 3), stride=(1, 1), padding=(1, 1), groups=640)\n",
              "              )\n",
              "              (intermediate_act_fn): GELUActivation()\n",
              "              (dense2): Linear(in_features=640, out_features=160, bias=True)\n",
              "              (dropout): Dropout(p=0.0, inplace=False)\n",
              "            )\n",
              "          )\n",
              "        )\n",
              "        (3): ModuleList(\n",
              "          (0): SegformerLayer(\n",
              "            (layer_norm_1): LayerNorm((256,), eps=1e-05, elementwise_affine=True)\n",
              "            (attention): SegformerAttention(\n",
              "              (self): SegformerEfficientSelfAttention(\n",
              "                (query): Linear(in_features=256, out_features=256, bias=True)\n",
              "                (key): Linear(in_features=256, out_features=256, bias=True)\n",
              "                (value): Linear(in_features=256, out_features=256, bias=True)\n",
              "                (dropout): Dropout(p=0.0, inplace=False)\n",
              "              )\n",
              "              (output): SegformerSelfOutput(\n",
              "                (dense): Linear(in_features=256, out_features=256, bias=True)\n",
              "                (dropout): Dropout(p=0.0, inplace=False)\n",
              "              )\n",
              "            )\n",
              "            (drop_path): SegformerDropPath(p=0.08571428805589676)\n",
              "            (layer_norm_2): LayerNorm((256,), eps=1e-05, elementwise_affine=True)\n",
              "            (mlp): SegformerMixFFN(\n",
              "              (dense1): Linear(in_features=256, out_features=1024, bias=True)\n",
              "              (dwconv): SegformerDWConv(\n",
              "                (dwconv): Conv2d(1024, 1024, kernel_size=(3, 3), stride=(1, 1), padding=(1, 1), groups=1024)\n",
              "              )\n",
              "              (intermediate_act_fn): GELUActivation()\n",
              "              (dense2): Linear(in_features=1024, out_features=256, bias=True)\n",
              "              (dropout): Dropout(p=0.0, inplace=False)\n",
              "            )\n",
              "          )\n",
              "          (1): SegformerLayer(\n",
              "            (layer_norm_1): LayerNorm((256,), eps=1e-05, elementwise_affine=True)\n",
              "            (attention): SegformerAttention(\n",
              "              (self): SegformerEfficientSelfAttention(\n",
              "                (query): Linear(in_features=256, out_features=256, bias=True)\n",
              "                (key): Linear(in_features=256, out_features=256, bias=True)\n",
              "                (value): Linear(in_features=256, out_features=256, bias=True)\n",
              "                (dropout): Dropout(p=0.0, inplace=False)\n",
              "              )\n",
              "              (output): SegformerSelfOutput(\n",
              "                (dense): Linear(in_features=256, out_features=256, bias=True)\n",
              "                (dropout): Dropout(p=0.0, inplace=False)\n",
              "              )\n",
              "            )\n",
              "            (drop_path): SegformerDropPath(p=0.10000000149011612)\n",
              "            (layer_norm_2): LayerNorm((256,), eps=1e-05, elementwise_affine=True)\n",
              "            (mlp): SegformerMixFFN(\n",
              "              (dense1): Linear(in_features=256, out_features=1024, bias=True)\n",
              "              (dwconv): SegformerDWConv(\n",
              "                (dwconv): Conv2d(1024, 1024, kernel_size=(3, 3), stride=(1, 1), padding=(1, 1), groups=1024)\n",
              "              )\n",
              "              (intermediate_act_fn): GELUActivation()\n",
              "              (dense2): Linear(in_features=1024, out_features=256, bias=True)\n",
              "              (dropout): Dropout(p=0.0, inplace=False)\n",
              "            )\n",
              "          )\n",
              "        )\n",
              "      )\n",
              "      (layer_norm): ModuleList(\n",
              "        (0): LayerNorm((32,), eps=1e-05, elementwise_affine=True)\n",
              "        (1): LayerNorm((64,), eps=1e-05, elementwise_affine=True)\n",
              "        (2): LayerNorm((160,), eps=1e-05, elementwise_affine=True)\n",
              "        (3): LayerNorm((256,), eps=1e-05, elementwise_affine=True)\n",
              "      )\n",
              "    )\n",
              "  )\n",
              "  (decode_head): SegformerDecodeHead(\n",
              "    (linear_c): ModuleList(\n",
              "      (0): SegformerMLP(\n",
              "        (proj): Linear(in_features=32, out_features=256, bias=True)\n",
              "      )\n",
              "      (1): SegformerMLP(\n",
              "        (proj): Linear(in_features=64, out_features=256, bias=True)\n",
              "      )\n",
              "      (2): SegformerMLP(\n",
              "        (proj): Linear(in_features=160, out_features=256, bias=True)\n",
              "      )\n",
              "      (3): SegformerMLP(\n",
              "        (proj): Linear(in_features=256, out_features=256, bias=True)\n",
              "      )\n",
              "    )\n",
              "    (linear_fuse): Conv2d(1024, 256, kernel_size=(1, 1), stride=(1, 1), bias=False)\n",
              "    (batch_norm): BatchNorm2d(256, eps=1e-05, momentum=0.1, affine=True, track_running_stats=True)\n",
              "    (activation): ReLU()\n",
              "    (dropout): Dropout(p=0.1, inplace=False)\n",
              "    (classifier): Conv2d(256, 5, kernel_size=(1, 1), stride=(1, 1))\n",
              "  )\n",
              ")"
            ]
          },
          "metadata": {},
          "execution_count": 40
        }
      ],
      "source": [
        "!pip install safetensors\n",
        "from safetensors.torch import load_file\n",
        "from transformers import SegformerForSemanticSegmentation, SegformerImageProcessor\n",
        "import torch\n",
        "from PIL import Image\n",
        "\n",
        "# 모델과 프로세서 불러오기\n",
        "model_name = \"/content/drive/MyDrive/Sample data/segformer-b0-finetuned--outputs/checkpoint-1500/config.json\"  # 모델 파일 경로 (config.json이 포함된 디렉토리)\n",
        "processor = SegformerImageProcessor.from_pretrained(\"nvidia/mit-b0\")\n",
        "model_weights = load_file(\"/content/drive/MyDrive/Sample data/segformer-b0-finetuned--outputs/checkpoint-1500/model.safetensors\")\n",
        "model = SegformerForSemanticSegmentation.from_pretrained(\"nvidia/mit-b0\",\n",
        "    config=model_name)\n",
        "model.load_state_dict(model_weights)\n",
        "\n",
        "device = torch.device('cuda' if torch.cuda.is_available() else 'cpu')\n",
        "\n",
        "# Inference 준비\n",
        "model.eval()  # 모델을 평가 모드로 설정 (Dropout, BatchNorm 등을 비활성화)\n",
        "model.to(device)  # 모델을 GPU로 이동 (혹은 CPU)"
      ]
    },
    {
      "cell_type": "code",
      "source": [
        "# 이미지 불러오기\n",
        "image = Image.open(\"/content/0557477_as-0002508.jpg\").convert(\"RGB\").resize((512, 512))  # 예시 이미지\n",
        "\n",
        "# 이미지 전처리\n",
        "inputs = processor(images=image, return_tensors=\"pt\").to(device)\n",
        "\n",
        "# Inference 수행\n",
        "with torch.no_grad():\n",
        "    outputs = model(**inputs)\n",
        "    logits = outputs.logits  # 모델의 출력 (예측된 logits)\n",
        "\n",
        "# 출력 후 후처리 (예시: 예측된 클래스 레이블 얻기)\n",
        "print(f\"logit shape : {logits.shape}\")\n",
        "predictions = torch.argmax(logits, dim=1).squeeze(0)\n",
        "print(f\"after prediction and squeezing, segmap shape: {predictions.shape}\")"
      ],
      "metadata": {
        "colab": {
          "base_uri": "https://localhost:8080/"
        },
        "id": "a0IFgmoNqqci",
        "outputId": "1ee88cb5-5c7d-4fdc-f8a6-a7bce85dfb03"
      },
      "execution_count": 44,
      "outputs": [
        {
          "output_type": "stream",
          "name": "stdout",
          "text": [
            "logit shape : torch.Size([1, 5, 128, 128])\n",
            "after prediction segmap shape: torch.Size([128, 128])\n"
          ]
        }
      ]
    },
    {
      "cell_type": "code",
      "source": [
        "predictions.shape"
      ],
      "metadata": {
        "colab": {
          "base_uri": "https://localhost:8080/"
        },
        "id": "2y6LD_nYoW4_",
        "outputId": "5754c84d-2614-4226-e8ea-f8ab9fcf1982"
      },
      "execution_count": 42,
      "outputs": [
        {
          "output_type": "execute_result",
          "data": {
            "text/plain": [
              "torch.Size([128, 128])"
            ]
          },
          "metadata": {},
          "execution_count": 42
        }
      ]
    },
    {
      "cell_type": "code",
      "source": [
        "import numpy as np\n",
        "import matplotlib.pyplot as plt\n",
        "# 클래스 레이블을 색상 맵으로 변환\n",
        "\n",
        "# id2label 매핑 (예시)\n",
        "id2label = {0: 'Background', 1: 'Crushed', 2: 'Breakage', 3: 'Scratched', 4: 'Separated'}\n",
        "\n",
        "# 클래스 색상 (임의로 지정한 색상)\n",
        "colors = [\n",
        "    [0, 0, 0],      # Background\n",
        "    [255, 0, 0],    # Crushed\n",
        "    [0, 255, 0],    # Breakage\n",
        "    [0, 0, 255],    # Scratched\n",
        "    [255, 255, 0]   # Separated\n",
        "]\n",
        "\n",
        "# 예측 맵을 색상으로 변환\n",
        "colored_map = np.zeros((predictions.shape[0], predictions.shape[1], 3), dtype=np.uint8)\n",
        "\n",
        "for class_id, color in enumerate(colors):\n",
        "    colored_map[predictions == class_id] = color\n",
        "\n",
        "# 예측된 세그멘테이션 맵을 시각화\n",
        "plt.imshow(colored_map)\n",
        "plt.title(\"Predicted Segmentation Map\")\n",
        "plt.show()"
      ],
      "metadata": {
        "colab": {
          "base_uri": "https://localhost:8080/",
          "height": 452
        },
        "id": "18UJ53YynO80",
        "outputId": "d857dd9b-2387-482b-a316-4123776fe286"
      },
      "execution_count": 45,
      "outputs": [
        {
          "output_type": "display_data",
          "data": {
            "text/plain": [
              "<Figure size 640x480 with 1 Axes>"
            ],
            "image/png": "[encoded data removed]"
          },
          "metadata": {}
        }
      ]
    },
    {
      "cell_type": "code",
      "source": [
        "import numpy as np\n",
        "import matplotlib.pyplot as plt\n",
        "\n",
        "# 클래스 레이블을 색상 맵으로 변환\n",
        "id2label = {0: 'Background', 1: 'Crushed', 2: 'Breakage', 3: 'Scratched', 4: 'Separated'}\n",
        "\n",
        "# 클래스 색상 (임의로 지정한 색상)\n",
        "colors = [\n",
        "    [0, 0, 0],      # Background\n",
        "    [255, 0, 0],    # Crushed\n",
        "    [0, 255, 0],    # Breakage\n",
        "    [0, 0, 255],    # Scratched\n",
        "    [255, 255, 0]   # Separated\n",
        "]\n",
        "\n",
        "# 예측 맵을 색상으로 변환\n",
        "colored_map = np.zeros((predictions.shape[0], predictions.shape[1], 3), dtype=np.uint8)\n",
        "\n",
        "for class_id, color in enumerate(colors):\n",
        "    colored_map[predictions == class_id] = color\n",
        "\n",
        "# 예측된 세그멘테이션 맵을 시각화\n",
        "plt.imshow(colored_map)\n",
        "plt.title(\"Predicted Segmentation Map\")\n",
        "\n",
        "# 손상 종류 텍스트 추가\n",
        "for class_id, label in id2label.items():\n",
        "    # 클래스 위치를 계산하기 위해 예측된 각 클래스의 좌표를 구함\n",
        "    class_mask = predictions == class_id\n",
        "    if np.any(class_mask.cpu().numpy()):  # 해당 클래스가 존재하는 경우\n",
        "        # 텍스트의 위치 (클래스 영역의 중앙에 텍스트 배치)\n",
        "        y, x = np.where(class_mask.cpu().numpy())\n",
        "        text_position = (np.mean(y), np.mean(x))\n",
        "\n",
        "        # 손상 종류 텍스트 추가\n",
        "        plt.text(text_position[1], text_position[0], label, color='white', fontsize=12, ha='center', va='center')\n",
        "\n",
        "# 결과 시각화\n",
        "plt.show()\n"
      ],
      "metadata": {
        "colab": {
          "base_uri": "https://localhost:8080/",
          "height": 452
        },
        "id": "SaYMmbxFCGVD",
        "outputId": "4a453419-7345-4b28-f3b2-fe6669e715fa"
      },
      "execution_count": 47,
      "outputs": [
        {
          "output_type": "display_data",
          "data": {
            "text/plain": [
              "<Figure size 640x480 with 1 Axes>"
            ],
            "image/png": "[encoded data removed]"
          },
          "metadata": {}
        }
      ]
    },
    {
      "cell_type": "code",
      "source": [
        "from google.colab import drive\n",
        "drive.mount('/content/drive')"
      ],
      "metadata": {
        "colab": {
          "base_uri": "https://localhost:8080/"
        },
        "id": "0hUy9ucukHku",
        "outputId": "4ab916aa-d854-4563-eef8-edf02492b494"
      },
      "execution_count": 1,
      "outputs": [
        {
          "output_type": "stream",
          "name": "stdout",
          "text": [
            "Mounted at /content/drive\n"
          ]
        }
      ]
    },
    {
      "cell_type": "code",
      "source": [],
      "metadata": {
        "id": "mllUY3gkkIJq"
      },
      "execution_count": null,
      "outputs": []
    }
  ]
}