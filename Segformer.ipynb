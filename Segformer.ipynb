{
  "nbformat": 4,
  "nbformat_minor": 0,
  "metadata": {
    "colab": {
      "provenance": [],
      "mount_file_id": "1Mbw-cFiVCm0C1aZ744sRzBzLMpE9lz2j",
      "authorship_tag": "ABX9TyMdvi+11M8oMXLklYO7NECP",
      "include_colab_link": true
    },
    "kernelspec": {
      "name": "python3",
      "display_name": "Python 3"
    },
    "language_info": {
      "name": "python"
    }
  },
  "cells": [
    {
      "cell_type": "markdown",
      "metadata": {
        "id": "view-in-github",
        "colab_type": "text"
      },
      "source": [
        "<a href=\"https://colab.research.google.com/github/lucinnnal/DNN_Final_Project/blob/main/Segformer.ipynb\" target=\"_parent\"><img src=\"https://colab.research.google.com/assets/colab-badge.svg\" alt=\"Open In Colab\"/></a>"
      ]
    },
    {
      "cell_type": "code",
      "source": [
        "#Loading DataSet\n"
      ],
      "metadata": {
        "id": "ThiXXJj8lber"
      },
      "execution_count": null,
      "outputs": []
    },
    {
      "cell_type": "code",
      "execution_count": null,
      "metadata": {
        "id": "OaDQNx_wj85z"
      },
      "outputs": [],
      "source": [
        "#Neccessary libraries\n",
        "import torch\n",
        "from torch import nn\n",
        "from torchvision import transforms\n",
        "from transformers import AutoImageProcessor, SegformerModel\n",
        "from transformers import SegformerForSemanticSegmentation"
      ]
    },
    {
      "cell_type": "code",
      "source": [
        "image_processor = AutoImageProcessor.from_pretrained(\"nvidia/mit-b0\")\n",
        "model = SegformerModel.from_pretrained(\"nvidia/mit-b0\", num_labels=5)"
      ],
      "metadata": {
        "id": "CkpVkMvpkY8k"
      },
      "execution_count": null,
      "outputs": []
    },
    {
      "cell_type": "markdown",
      "source": [
        "from torchvision import transforms\n",
        "\n",
        "transform = transforms.Compose([\n",
        "    transforms.ToTensor()\n",
        "])\n",
        "\n",
        "image_to_tensor = transform(image)\n",
        "print(image_to_tensor.shape) *이탤릭체 텍스트*\n",
        "\n",
        "해당 코드는 jpg 파일을 pytorch tensor로 변환해주는 코드인데,\n",
        "코드를 실행하여 shape을 살펴보면,\n",
        "\n",
        "**torch.Size([3, 960, 1280]) 이와 같은 크기의 tensor가 나옴.**\n",
        "\n",
        "\n",
        "GPT:\n",
        "\n",
        "1) transforms.Compose()는 여러 이미지 전처리 변환을 순차적으로 적용할 수 있도록 하는 함수입니다.\n",
        "여기서는 transforms.ToTensor() 하나만 포함되어 있지만, 여러 변환을 조합하여 사용할 수 있습니다. 예: transforms.Compose([transforms.Resize(256), transforms.ToTensor()])\n",
        "\n",
        "\n",
        "\n",
        "2) transforms.ToTensor():\n",
        "ToTensor()는 PIL 이미지를 파이토치 텐서로 변환합니다."
      ],
      "metadata": {
        "id": "0vOIoXuQ44AY"
      }
    },
    {
      "cell_type": "code",
      "source": [
        "# Preprocessing image for Segformer\n",
        "from PIL import Image\n",
        "\n",
        "image = Image.open('/content/0506287_sc-109140.jpg')\n",
        "input_example = image_processor(image, return_tensors=\"pt\")\n",
        "input_example['pixel_values'].shape # segformer를 위한 전처리를 거친 이미지의 크기는 torch.Size([1, 3, 512, 512])"
      ],
      "metadata": {
        "colab": {
          "base_uri": "https://localhost:8080/"
        },
        "id": "yfzaof2QmuCU",
        "outputId": "c695ac08-ada2-4ac8-bd69-5ec9438ac7eb"
      },
      "execution_count": null,
      "outputs": [
        {
          "output_type": "execute_result",
          "data": {
            "text/plain": [
              "torch.Size([1, 3, 512, 512])"
            ]
          },
          "metadata": {},
          "execution_count": 32
        }
      ]
    },
    {
      "cell_type": "markdown",
      "source": [
        "Segformer model에 맞게 변환시키면 -> torch.Size([1, 3, 512, 512])"
      ],
      "metadata": {
        "id": "gw5IeVHD5hea"
      }
    },
    {
      "cell_type": "code",
      "source": [
        "cd /content/drive/MyDrive/Colab Notebooks"
      ],
      "metadata": {
        "id": "fCpJY5eK3nQT",
        "colab": {
          "base_uri": "https://localhost:8080/"
        },
        "outputId": "2d8831fa-7fe6-444f-e54a-8b65244e69d7"
      },
      "execution_count": 6,
      "outputs": [
        {
          "output_type": "stream",
          "name": "stdout",
          "text": [
            "/content/drive/MyDrive/Colab Notebooks\n"
          ]
        }
      ]
    },
    {
      "cell_type": "code",
      "source": [
        "!git config --global user.email \"kipyo39@gmail.com\"\n",
        "!git config --global user.name \"lucinnnal\""
      ],
      "metadata": {
        "id": "7srTlvYY5zax"
      },
      "execution_count": 2,
      "outputs": []
    },
    {
      "cell_type": "code",
      "source": [
        "!git add Segformer.ipynb"
      ],
      "metadata": {
        "colab": {
          "base_uri": "https://localhost:8080/"
        },
        "id": "lYdKyIzO6Tgl",
        "outputId": "231b9271-7bd6-4a3a-e4d0-ad9dc2d3bef5"
      },
      "execution_count": 7,
      "outputs": [
        {
          "output_type": "stream",
          "name": "stdout",
          "text": [
            "fatal: not a git repository (or any parent up to mount point /content)\n",
            "Stopping at filesystem boundary (GIT_DISCOVERY_ACROSS_FILESYSTEM not set).\n"
          ]
        }
      ]
    },
    {
      "cell_type": "code",
      "source": [],
      "metadata": {
        "id": "KooU5p376XTU"
      },
      "execution_count": null,
      "outputs": []
    }
  ]
}